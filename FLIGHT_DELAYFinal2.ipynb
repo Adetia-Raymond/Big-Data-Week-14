{
  "nbformat": 4,
  "nbformat_minor": 0,
  "metadata": {
    "colab": {
      "provenance": []
    },
    "kernelspec": {
      "name": "python3",
      "display_name": "Python 3"
    },
    "language_info": {
      "name": "python"
    }
  },
  "cells": [
    {
      "cell_type": "code",
      "execution_count": 1,
      "metadata": {
        "id": "n9NpNEv96HUz",
        "colab": {
          "base_uri": "https://localhost:8080/",
          "height": 128
        },
        "outputId": "5fa5571d-7c96-4ccc-b105-8f5b9ccbd22d",
        "collapsed": true
      },
      "outputs": [
        {
          "output_type": "display_data",
          "data": {
            "text/plain": [
              "<IPython.core.display.HTML object>"
            ],
            "text/html": [
              "\n",
              "     <input type=\"file\" id=\"files-6355bcab-1273-4850-89fa-33b84eeb832e\" name=\"files[]\" multiple disabled\n",
              "        style=\"border:none\" />\n",
              "     <output id=\"result-6355bcab-1273-4850-89fa-33b84eeb832e\">\n",
              "      Upload widget is only available when the cell has been executed in the\n",
              "      current browser session. Please rerun this cell to enable.\n",
              "      </output>\n",
              "      <script>// Copyright 2017 Google LLC\n",
              "//\n",
              "// Licensed under the Apache License, Version 2.0 (the \"License\");\n",
              "// you may not use this file except in compliance with the License.\n",
              "// You may obtain a copy of the License at\n",
              "//\n",
              "//      http://www.apache.org/licenses/LICENSE-2.0\n",
              "//\n",
              "// Unless required by applicable law or agreed to in writing, software\n",
              "// distributed under the License is distributed on an \"AS IS\" BASIS,\n",
              "// WITHOUT WARRANTIES OR CONDITIONS OF ANY KIND, either express or implied.\n",
              "// See the License for the specific language governing permissions and\n",
              "// limitations under the License.\n",
              "\n",
              "/**\n",
              " * @fileoverview Helpers for google.colab Python module.\n",
              " */\n",
              "(function(scope) {\n",
              "function span(text, styleAttributes = {}) {\n",
              "  const element = document.createElement('span');\n",
              "  element.textContent = text;\n",
              "  for (const key of Object.keys(styleAttributes)) {\n",
              "    element.style[key] = styleAttributes[key];\n",
              "  }\n",
              "  return element;\n",
              "}\n",
              "\n",
              "// Max number of bytes which will be uploaded at a time.\n",
              "const MAX_PAYLOAD_SIZE = 100 * 1024;\n",
              "\n",
              "function _uploadFiles(inputId, outputId) {\n",
              "  const steps = uploadFilesStep(inputId, outputId);\n",
              "  const outputElement = document.getElementById(outputId);\n",
              "  // Cache steps on the outputElement to make it available for the next call\n",
              "  // to uploadFilesContinue from Python.\n",
              "  outputElement.steps = steps;\n",
              "\n",
              "  return _uploadFilesContinue(outputId);\n",
              "}\n",
              "\n",
              "// This is roughly an async generator (not supported in the browser yet),\n",
              "// where there are multiple asynchronous steps and the Python side is going\n",
              "// to poll for completion of each step.\n",
              "// This uses a Promise to block the python side on completion of each step,\n",
              "// then passes the result of the previous step as the input to the next step.\n",
              "function _uploadFilesContinue(outputId) {\n",
              "  const outputElement = document.getElementById(outputId);\n",
              "  const steps = outputElement.steps;\n",
              "\n",
              "  const next = steps.next(outputElement.lastPromiseValue);\n",
              "  return Promise.resolve(next.value.promise).then((value) => {\n",
              "    // Cache the last promise value to make it available to the next\n",
              "    // step of the generator.\n",
              "    outputElement.lastPromiseValue = value;\n",
              "    return next.value.response;\n",
              "  });\n",
              "}\n",
              "\n",
              "/**\n",
              " * Generator function which is called between each async step of the upload\n",
              " * process.\n",
              " * @param {string} inputId Element ID of the input file picker element.\n",
              " * @param {string} outputId Element ID of the output display.\n",
              " * @return {!Iterable<!Object>} Iterable of next steps.\n",
              " */\n",
              "function* uploadFilesStep(inputId, outputId) {\n",
              "  const inputElement = document.getElementById(inputId);\n",
              "  inputElement.disabled = false;\n",
              "\n",
              "  const outputElement = document.getElementById(outputId);\n",
              "  outputElement.innerHTML = '';\n",
              "\n",
              "  const pickedPromise = new Promise((resolve) => {\n",
              "    inputElement.addEventListener('change', (e) => {\n",
              "      resolve(e.target.files);\n",
              "    });\n",
              "  });\n",
              "\n",
              "  const cancel = document.createElement('button');\n",
              "  inputElement.parentElement.appendChild(cancel);\n",
              "  cancel.textContent = 'Cancel upload';\n",
              "  const cancelPromise = new Promise((resolve) => {\n",
              "    cancel.onclick = () => {\n",
              "      resolve(null);\n",
              "    };\n",
              "  });\n",
              "\n",
              "  // Wait for the user to pick the files.\n",
              "  const files = yield {\n",
              "    promise: Promise.race([pickedPromise, cancelPromise]),\n",
              "    response: {\n",
              "      action: 'starting',\n",
              "    }\n",
              "  };\n",
              "\n",
              "  cancel.remove();\n",
              "\n",
              "  // Disable the input element since further picks are not allowed.\n",
              "  inputElement.disabled = true;\n",
              "\n",
              "  if (!files) {\n",
              "    return {\n",
              "      response: {\n",
              "        action: 'complete',\n",
              "      }\n",
              "    };\n",
              "  }\n",
              "\n",
              "  for (const file of files) {\n",
              "    const li = document.createElement('li');\n",
              "    li.append(span(file.name, {fontWeight: 'bold'}));\n",
              "    li.append(span(\n",
              "        `(${file.type || 'n/a'}) - ${file.size} bytes, ` +\n",
              "        `last modified: ${\n",
              "            file.lastModifiedDate ? file.lastModifiedDate.toLocaleDateString() :\n",
              "                                    'n/a'} - `));\n",
              "    const percent = span('0% done');\n",
              "    li.appendChild(percent);\n",
              "\n",
              "    outputElement.appendChild(li);\n",
              "\n",
              "    const fileDataPromise = new Promise((resolve) => {\n",
              "      const reader = new FileReader();\n",
              "      reader.onload = (e) => {\n",
              "        resolve(e.target.result);\n",
              "      };\n",
              "      reader.readAsArrayBuffer(file);\n",
              "    });\n",
              "    // Wait for the data to be ready.\n",
              "    let fileData = yield {\n",
              "      promise: fileDataPromise,\n",
              "      response: {\n",
              "        action: 'continue',\n",
              "      }\n",
              "    };\n",
              "\n",
              "    // Use a chunked sending to avoid message size limits. See b/62115660.\n",
              "    let position = 0;\n",
              "    do {\n",
              "      const length = Math.min(fileData.byteLength - position, MAX_PAYLOAD_SIZE);\n",
              "      const chunk = new Uint8Array(fileData, position, length);\n",
              "      position += length;\n",
              "\n",
              "      const base64 = btoa(String.fromCharCode.apply(null, chunk));\n",
              "      yield {\n",
              "        response: {\n",
              "          action: 'append',\n",
              "          file: file.name,\n",
              "          data: base64,\n",
              "        },\n",
              "      };\n",
              "\n",
              "      let percentDone = fileData.byteLength === 0 ?\n",
              "          100 :\n",
              "          Math.round((position / fileData.byteLength) * 100);\n",
              "      percent.textContent = `${percentDone}% done`;\n",
              "\n",
              "    } while (position < fileData.byteLength);\n",
              "  }\n",
              "\n",
              "  // All done.\n",
              "  yield {\n",
              "    response: {\n",
              "      action: 'complete',\n",
              "    }\n",
              "  };\n",
              "}\n",
              "\n",
              "scope.google = scope.google || {};\n",
              "scope.google.colab = scope.google.colab || {};\n",
              "scope.google.colab._files = {\n",
              "  _uploadFiles,\n",
              "  _uploadFilesContinue,\n",
              "};\n",
              "})(self);\n",
              "</script> "
            ]
          },
          "metadata": {}
        },
        {
          "output_type": "stream",
          "name": "stdout",
          "text": [
            "Saving kaggle.json to kaggle (1).json\n",
            "Dataset URL: https://www.kaggle.com/datasets/robikscube/flight-delay-dataset-20182022\n",
            "License(s): CC0-1.0\n",
            "flight-delay-dataset-20182022.zip: Skipping, found more recently modified local copy (use --force to force download)\n"
          ]
        }
      ],
      "source": [
        "from google.colab import files\n",
        "files.upload()\n",
        "!mkdir -p ~/.kaggle\n",
        "!cp kaggle.json ~/.kaggle/\n",
        "!chmod 600 ~/.kaggle/kaggle.json\n",
        "!kaggle datasets download -d robikscube/flight-delay-dataset-20182022\n",
        "\n",
        "import zipfile\n",
        "with zipfile.ZipFile('/content/flight-delay-dataset-20182022.zip', 'r') as zip_ref:\n",
        "    zip_ref.extract('Combined_Flights_2022.parquet', '/content/dataset')\n",
        "\n",
        "import pandas as pd\n",
        "df = pd.read_parquet('/content/dataset/Combined_Flights_2022.parquet')\n",
        "df = df.head(1000000)\n",
        "# df = pd.read_csv('/content/dataset/Combined_Flights_2022.csv')"
      ]
    },
    {
      "cell_type": "code",
      "source": [
        "print(df.info())\n",
        "print(df.head(10).to_string())\n"
      ],
      "metadata": {
        "colab": {
          "base_uri": "https://localhost:8080/"
        },
        "id": "JFeAJDEbCDvh",
        "outputId": "b035f63a-ba9a-4d40-8ddd-094e9db128b1"
      },
      "execution_count": 2,
      "outputs": [
        {
          "output_type": "stream",
          "name": "stdout",
          "text": [
            "<class 'pandas.core.frame.DataFrame'>\n",
            "Index: 1000000 entries, 0 to 419709\n",
            "Data columns (total 61 columns):\n",
            " #   Column                                   Non-Null Count    Dtype         \n",
            "---  ------                                   --------------    -----         \n",
            " 0   FlightDate                               1000000 non-null  datetime64[us]\n",
            " 1   Airline                                  1000000 non-null  object        \n",
            " 2   Origin                                   1000000 non-null  object        \n",
            " 3   Dest                                     1000000 non-null  object        \n",
            " 4   Cancelled                                1000000 non-null  bool          \n",
            " 5   Diverted                                 1000000 non-null  bool          \n",
            " 6   CRSDepTime                               1000000 non-null  int64         \n",
            " 7   DepTime                                  969126 non-null   float64       \n",
            " 8   DepDelayMinutes                          969108 non-null   float64       \n",
            " 9   DepDelay                                 969108 non-null   float64       \n",
            " 10  ArrTime                                  968258 non-null   float64       \n",
            " 11  ArrDelayMinutes                          966403 non-null   float64       \n",
            " 12  AirTime                                  966403 non-null   float64       \n",
            " 13  CRSElapsedTime                           1000000 non-null  float64       \n",
            " 14  ActualElapsedTime                        966403 non-null   float64       \n",
            " 15  Distance                                 1000000 non-null  float64       \n",
            " 16  Year                                     1000000 non-null  int64         \n",
            " 17  Quarter                                  1000000 non-null  int64         \n",
            " 18  Month                                    1000000 non-null  int64         \n",
            " 19  DayofMonth                               1000000 non-null  int64         \n",
            " 20  DayOfWeek                                1000000 non-null  int64         \n",
            " 21  Marketing_Airline_Network                1000000 non-null  object        \n",
            " 22  Operated_or_Branded_Code_Share_Partners  1000000 non-null  object        \n",
            " 23  DOT_ID_Marketing_Airline                 1000000 non-null  int64         \n",
            " 24  IATA_Code_Marketing_Airline              1000000 non-null  object        \n",
            " 25  Flight_Number_Marketing_Airline          1000000 non-null  int64         \n",
            " 26  Operating_Airline                        1000000 non-null  object        \n",
            " 27  DOT_ID_Operating_Airline                 1000000 non-null  int64         \n",
            " 28  IATA_Code_Operating_Airline              1000000 non-null  object        \n",
            " 29  Tail_Number                              995155 non-null   object        \n",
            " 30  Flight_Number_Operating_Airline          1000000 non-null  int64         \n",
            " 31  OriginAirportID                          1000000 non-null  int64         \n",
            " 32  OriginAirportSeqID                       1000000 non-null  int64         \n",
            " 33  OriginCityMarketID                       1000000 non-null  int64         \n",
            " 34  OriginCityName                           1000000 non-null  object        \n",
            " 35  OriginState                              1000000 non-null  object        \n",
            " 36  OriginStateFips                          1000000 non-null  int64         \n",
            " 37  OriginStateName                          1000000 non-null  object        \n",
            " 38  OriginWac                                1000000 non-null  int64         \n",
            " 39  DestAirportID                            1000000 non-null  int64         \n",
            " 40  DestAirportSeqID                         1000000 non-null  int64         \n",
            " 41  DestCityMarketID                         1000000 non-null  int64         \n",
            " 42  DestCityName                             1000000 non-null  object        \n",
            " 43  DestState                                1000000 non-null  object        \n",
            " 44  DestStateFips                            1000000 non-null  int64         \n",
            " 45  DestStateName                            1000000 non-null  object        \n",
            " 46  DestWac                                  1000000 non-null  int64         \n",
            " 47  DepDel15                                 969108 non-null   float64       \n",
            " 48  DepartureDelayGroups                     969108 non-null   float64       \n",
            " 49  DepTimeBlk                               1000000 non-null  object        \n",
            " 50  TaxiOut                                  968684 non-null   float64       \n",
            " 51  WheelsOff                                968684 non-null   float64       \n",
            " 52  WheelsOn                                 968257 non-null   float64       \n",
            " 53  TaxiIn                                   968257 non-null   float64       \n",
            " 54  CRSArrTime                               1000000 non-null  int64         \n",
            " 55  ArrDelay                                 966403 non-null   float64       \n",
            " 56  ArrDel15                                 966403 non-null   float64       \n",
            " 57  ArrivalDelayGroups                       966403 non-null   float64       \n",
            " 58  ArrTimeBlk                               1000000 non-null  object        \n",
            " 59  DistanceGroup                            1000000 non-null  int64         \n",
            " 60  DivAirportLandings                       1000000 non-null  int64         \n",
            "dtypes: bool(2), datetime64[us](1), float64(18), int64(23), object(17)\n",
            "memory usage: 459.7+ MB\n",
            "None\n",
            "  FlightDate                                    Airline Origin Dest  Cancelled  Diverted  CRSDepTime  DepTime  DepDelayMinutes  DepDelay  ArrTime  ArrDelayMinutes  AirTime  CRSElapsedTime  ActualElapsedTime  Distance  Year  Quarter  Month  DayofMonth  DayOfWeek Marketing_Airline_Network Operated_or_Branded_Code_Share_Partners  DOT_ID_Marketing_Airline IATA_Code_Marketing_Airline  Flight_Number_Marketing_Airline Operating_Airline  DOT_ID_Operating_Airline IATA_Code_Operating_Airline Tail_Number  Flight_Number_Operating_Airline  OriginAirportID  OriginAirportSeqID  OriginCityMarketID            OriginCityName OriginState  OriginStateFips OriginStateName  OriginWac  DestAirportID  DestAirportSeqID  DestCityMarketID         DestCityName DestState  DestStateFips DestStateName  DestWac  DepDel15  DepartureDelayGroups DepTimeBlk  TaxiOut  WheelsOff  WheelsOn  TaxiIn  CRSArrTime  ArrDelay  ArrDel15  ArrivalDelayGroups ArrTimeBlk  DistanceGroup  DivAirportLandings\n",
            "0 2022-04-04  Commutair Aka Champlain Enterprises, Inc.    GJT  DEN      False     False        1133   1123.0              0.0     -10.0   1228.0              0.0     40.0            72.0               65.0     212.0  2022        2      4           4          1                        UA                            UA_CODESHARE                     19977                          UA                             4301                C5                     20445                          C5      N21144                             4301            11921             1192102               31921        Grand Junction, CO          CO                8        Colorado         82          11292           1129202             30325           Denver, CO        CO              8      Colorado       82       0.0                  -1.0  1100-1159     17.0     1140.0    1220.0     8.0        1245     -17.0       0.0                -2.0  1200-1259              1                   0\n",
            "1 2022-04-04  Commutair Aka Champlain Enterprises, Inc.    HRL  IAH      False     False         732    728.0              0.0      -4.0    848.0              0.0     55.0            77.0               80.0     295.0  2022        2      4           4          1                        UA                            UA_CODESHARE                     19977                          UA                             4299                C5                     20445                          C5      N16170                             4299            12206             1220605               32206  Harlingen/San Benito, TX          TX               48           Texas         74          12266           1226603             31453          Houston, TX        TX             48         Texas       74       0.0                  -1.0  0700-0759     16.0      744.0     839.0     9.0         849      -1.0       0.0                -1.0  0800-0859              2                   0\n",
            "2 2022-04-04  Commutair Aka Champlain Enterprises, Inc.    DRO  DEN      False     False        1529   1514.0              0.0     -15.0   1636.0              0.0     47.0            70.0               82.0     251.0  2022        2      4           4          1                        UA                            UA_CODESHARE                     19977                          UA                             4298                C5                     20445                          C5      N21144                             4298            11413             1141307               30285               Durango, CO          CO                8        Colorado         82          11292           1129202             30325           Denver, CO        CO              8      Colorado       82       0.0                  -1.0  1500-1559     21.0     1535.0    1622.0    14.0        1639      -3.0       0.0                -1.0  1600-1659              2                   0\n",
            "3 2022-04-04  Commutair Aka Champlain Enterprises, Inc.    IAH  GPT      False     False        1435   1430.0              0.0      -5.0   1547.0              0.0     57.0            90.0               77.0     376.0  2022        2      4           4          1                        UA                            UA_CODESHARE                     19977                          UA                             4296                C5                     20445                          C5      N11184                             4296            12266             1226603               31453               Houston, TX          TX               48           Texas         74          11973           1197302             31973  Gulfport/Biloxi, MS        MS             28   Mississippi       53       0.0                  -1.0  1400-1459     16.0     1446.0    1543.0     4.0        1605     -18.0       0.0                -2.0  1600-1659              2                   0\n",
            "4 2022-04-04  Commutair Aka Champlain Enterprises, Inc.    DRO  DEN      False     False        1135   1135.0              0.0       0.0   1251.0              6.0     49.0            70.0               76.0     251.0  2022        2      4           4          1                        UA                            UA_CODESHARE                     19977                          UA                             4295                C5                     20445                          C5      N17146                             4295            11413             1141307               30285               Durango, CO          CO                8        Colorado         82          11292           1129202             30325           Denver, CO        CO              8      Colorado       82       0.0                   0.0  1100-1159     19.0     1154.0    1243.0     8.0        1245       6.0       0.0                 0.0  1200-1259              2                   0\n",
            "5 2022-04-04  Commutair Aka Champlain Enterprises, Inc.    DEN  TUL      False     False         955    952.0              0.0      -3.0   1238.0              0.0     77.0           105.0              106.0     541.0  2022        2      4           4          1                        UA                            UA_CODESHARE                     19977                          UA                             4294                C5                     20445                          C5      N11191                             4294            11292             1129202               30325                Denver, CO          CO                8        Colorado         82          15370           1537002             34653            Tulsa, OK        OK             40      Oklahoma       73       0.0                  -1.0  0900-0959     25.0     1017.0    1234.0     4.0        1240      -2.0       0.0                -1.0  1200-1259              3                   0\n",
            "6 2022-04-04  Commutair Aka Champlain Enterprises, Inc.    IAH  LCH      False     False        2139   2136.0              0.0      -3.0   2218.0              0.0     26.0            52.0               42.0     127.0  2022        2      4           4          1                        UA                            UA_CODESHARE                     19977                          UA                             4293                C5                     20445                          C5      N14143                             4293            12266             1226603               31453               Houston, TX          TX               48           Texas         74          12915           1291503             31205     Lake Charles, LA        LA             22     Louisiana       72       0.0                  -1.0  2100-2159     11.0     2147.0    2213.0     5.0        2231     -13.0       0.0                -1.0  2200-2259              1                   0\n",
            "7 2022-04-04  Commutair Aka Champlain Enterprises, Inc.    TYS  IAH      False     False        1129   1117.0              0.0     -12.0   1311.0              5.0    136.0           157.0              174.0     771.0  2022        2      4           4          1                        UA                            UA_CODESHARE                     19977                          UA                             4292                C5                     20445                          C5      N13124                             4292            15412             1541205               35412             Knoxville, TN          TN               47       Tennessee         54          12266           1226603             31453          Houston, TX        TX             48         Texas       74       0.0                  -1.0  1100-1159     22.0     1139.0    1255.0    16.0        1306       5.0       0.0                 0.0  1300-1359              4                   0\n",
            "8 2022-04-04  Commutair Aka Champlain Enterprises, Inc.    IAH  AEX      False     False        1424   1414.0              0.0     -10.0   1513.0              0.0     37.0            60.0               59.0     190.0  2022        2      4           4          1                        UA                            UA_CODESHARE                     19977                          UA                             4291                C5                     20445                          C5      N33182                             4291            12266             1226603               31453               Houston, TX          TX               48           Texas         74          10185           1018502             30185       Alexandria, LA        LA             22     Louisiana       72       0.0                  -1.0  1400-1459     16.0     1430.0    1507.0     6.0        1524     -11.0       0.0                -1.0  1500-1559              1                   0\n",
            "9 2022-04-04  Commutair Aka Champlain Enterprises, Inc.    IAH  MOB      False     False         954    947.0              0.0      -7.0   1110.0              0.0     60.0            87.0               83.0     427.0  2022        2      4           4          1                        UA                            UA_CODESHARE                     19977                          UA                             4290                C5                     20445                          C5      N21154                             4290            12266             1226603               31453               Houston, TX          TX               48           Texas         74          13422           1342202             30562           Mobile, AL        AL              1       Alabama       51       0.0                  -1.0  0900-0959     17.0     1004.0    1104.0     6.0        1121     -11.0       0.0                -1.0  1100-1159              2                   0\n"
          ]
        }
      ]
    },
    {
      "cell_type": "markdown",
      "source": [
        "# Hapus kolom yang irrelevan\n",
        "\n",
        "---\n",
        "\n",
        "\n"
      ],
      "metadata": {
        "id": "BRE3FDsHo4mV"
      }
    },
    {
      "cell_type": "code",
      "source": [
        "dropColumn = [\n",
        "    \"DOT_ID_Marketing_Airline\",\n",
        "    \"Marketing_Airline_Network\", \"IATA_Code_Marketing_Airline\",\n",
        "    \"OriginAirportID\", \"OriginAirportSeqID\", \"DestAirportID\", \"DestAirportSeqID\",\n",
        "    \"Flight_Number_Operating_Airline\",\"Flight_Number_Marketing_Airline\",\n",
        "    \"OriginCityMarketID\",\"DestCityMarketID\"\n",
        "]\n",
        "\n",
        "df_drop = df.drop(columns=dropColumn)\n",
        "df_drop.info()"
      ],
      "metadata": {
        "colab": {
          "base_uri": "https://localhost:8080/"
        },
        "id": "UK7_Ma9W3_Fn",
        "outputId": "0d5b2308-361b-447e-9518-83cee5acb529"
      },
      "execution_count": 3,
      "outputs": [
        {
          "output_type": "stream",
          "name": "stdout",
          "text": [
            "<class 'pandas.core.frame.DataFrame'>\n",
            "Index: 1000000 entries, 0 to 419709\n",
            "Data columns (total 50 columns):\n",
            " #   Column                                   Non-Null Count    Dtype         \n",
            "---  ------                                   --------------    -----         \n",
            " 0   FlightDate                               1000000 non-null  datetime64[us]\n",
            " 1   Airline                                  1000000 non-null  object        \n",
            " 2   Origin                                   1000000 non-null  object        \n",
            " 3   Dest                                     1000000 non-null  object        \n",
            " 4   Cancelled                                1000000 non-null  bool          \n",
            " 5   Diverted                                 1000000 non-null  bool          \n",
            " 6   CRSDepTime                               1000000 non-null  int64         \n",
            " 7   DepTime                                  969126 non-null   float64       \n",
            " 8   DepDelayMinutes                          969108 non-null   float64       \n",
            " 9   DepDelay                                 969108 non-null   float64       \n",
            " 10  ArrTime                                  968258 non-null   float64       \n",
            " 11  ArrDelayMinutes                          966403 non-null   float64       \n",
            " 12  AirTime                                  966403 non-null   float64       \n",
            " 13  CRSElapsedTime                           1000000 non-null  float64       \n",
            " 14  ActualElapsedTime                        966403 non-null   float64       \n",
            " 15  Distance                                 1000000 non-null  float64       \n",
            " 16  Year                                     1000000 non-null  int64         \n",
            " 17  Quarter                                  1000000 non-null  int64         \n",
            " 18  Month                                    1000000 non-null  int64         \n",
            " 19  DayofMonth                               1000000 non-null  int64         \n",
            " 20  DayOfWeek                                1000000 non-null  int64         \n",
            " 21  Operated_or_Branded_Code_Share_Partners  1000000 non-null  object        \n",
            " 22  Operating_Airline                        1000000 non-null  object        \n",
            " 23  DOT_ID_Operating_Airline                 1000000 non-null  int64         \n",
            " 24  IATA_Code_Operating_Airline              1000000 non-null  object        \n",
            " 25  Tail_Number                              995155 non-null   object        \n",
            " 26  OriginCityName                           1000000 non-null  object        \n",
            " 27  OriginState                              1000000 non-null  object        \n",
            " 28  OriginStateFips                          1000000 non-null  int64         \n",
            " 29  OriginStateName                          1000000 non-null  object        \n",
            " 30  OriginWac                                1000000 non-null  int64         \n",
            " 31  DestCityName                             1000000 non-null  object        \n",
            " 32  DestState                                1000000 non-null  object        \n",
            " 33  DestStateFips                            1000000 non-null  int64         \n",
            " 34  DestStateName                            1000000 non-null  object        \n",
            " 35  DestWac                                  1000000 non-null  int64         \n",
            " 36  DepDel15                                 969108 non-null   float64       \n",
            " 37  DepartureDelayGroups                     969108 non-null   float64       \n",
            " 38  DepTimeBlk                               1000000 non-null  object        \n",
            " 39  TaxiOut                                  968684 non-null   float64       \n",
            " 40  WheelsOff                                968684 non-null   float64       \n",
            " 41  WheelsOn                                 968257 non-null   float64       \n",
            " 42  TaxiIn                                   968257 non-null   float64       \n",
            " 43  CRSArrTime                               1000000 non-null  int64         \n",
            " 44  ArrDelay                                 966403 non-null   float64       \n",
            " 45  ArrDel15                                 966403 non-null   float64       \n",
            " 46  ArrivalDelayGroups                       966403 non-null   float64       \n",
            " 47  ArrTimeBlk                               1000000 non-null  object        \n",
            " 48  DistanceGroup                            1000000 non-null  int64         \n",
            " 49  DivAirportLandings                       1000000 non-null  int64         \n",
            "dtypes: bool(2), datetime64[us](1), float64(18), int64(14), object(15)\n",
            "memory usage: 375.7+ MB\n"
          ]
        }
      ]
    },
    {
      "cell_type": "markdown",
      "source": [
        "# Deteksi sell yang kosong\n",
        "\n",
        "---\n",
        "\n"
      ],
      "metadata": {
        "id": "1aV8SKjBo_fs"
      }
    },
    {
      "cell_type": "code",
      "source": [
        "null_counts = df_drop.isnull().sum()\n",
        "print(null_counts)"
      ],
      "metadata": {
        "colab": {
          "base_uri": "https://localhost:8080/"
        },
        "id": "I2ZnM7qS8Og0",
        "outputId": "047e81f6-4d16-4552-9061-96fc7e6c328d"
      },
      "execution_count": 4,
      "outputs": [
        {
          "output_type": "stream",
          "name": "stdout",
          "text": [
            "FlightDate                                     0\n",
            "Airline                                        0\n",
            "Origin                                         0\n",
            "Dest                                           0\n",
            "Cancelled                                      0\n",
            "Diverted                                       0\n",
            "CRSDepTime                                     0\n",
            "DepTime                                    30874\n",
            "DepDelayMinutes                            30892\n",
            "DepDelay                                   30892\n",
            "ArrTime                                    31742\n",
            "ArrDelayMinutes                            33597\n",
            "AirTime                                    33597\n",
            "CRSElapsedTime                                 0\n",
            "ActualElapsedTime                          33597\n",
            "Distance                                       0\n",
            "Year                                           0\n",
            "Quarter                                        0\n",
            "Month                                          0\n",
            "DayofMonth                                     0\n",
            "DayOfWeek                                      0\n",
            "Operated_or_Branded_Code_Share_Partners        0\n",
            "Operating_Airline                              0\n",
            "DOT_ID_Operating_Airline                       0\n",
            "IATA_Code_Operating_Airline                    0\n",
            "Tail_Number                                 4845\n",
            "OriginCityName                                 0\n",
            "OriginState                                    0\n",
            "OriginStateFips                                0\n",
            "OriginStateName                                0\n",
            "OriginWac                                      0\n",
            "DestCityName                                   0\n",
            "DestState                                      0\n",
            "DestStateFips                                  0\n",
            "DestStateName                                  0\n",
            "DestWac                                        0\n",
            "DepDel15                                   30892\n",
            "DepartureDelayGroups                       30892\n",
            "DepTimeBlk                                     0\n",
            "TaxiOut                                    31316\n",
            "WheelsOff                                  31316\n",
            "WheelsOn                                   31743\n",
            "TaxiIn                                     31743\n",
            "CRSArrTime                                     0\n",
            "ArrDelay                                   33597\n",
            "ArrDel15                                   33597\n",
            "ArrivalDelayGroups                         33597\n",
            "ArrTimeBlk                                     0\n",
            "DistanceGroup                                  0\n",
            "DivAirportLandings                             0\n",
            "dtype: int64\n"
          ]
        }
      ]
    },
    {
      "cell_type": "markdown",
      "source": [
        "# Grafik distribusi kepada data kolom yang akan dianalisis\n",
        "\n",
        "---\n",
        "\n"
      ],
      "metadata": {
        "id": "U-dHOYlCpGMI"
      }
    },
    {
      "cell_type": "code",
      "source": [
        "import matplotlib.pyplot as plt\n",
        "\n",
        "column_to_plot = 'DepDelayMinutes'\n",
        "\n",
        "fig, ax = plt.subplots(figsize=(8, 5))\n",
        "\n",
        "df_drop[column_to_plot].plot.box(ax=ax,\n",
        "                                  patch_artist=True,\n",
        "                                  showfliers=False,\n",
        "                                  notch=False,\n",
        "                                  vert=False,\n",
        "                                  whis=0.5,\n",
        "                                  widths=0.5,\n",
        "                                  boxprops=dict(facecolor='lightblue', color='black'),\n",
        "                                  capprops=dict(color='black'),\n",
        "                                  medianprops=dict(color='blue', linewidth=2),\n",
        "                                  flierprops=dict(marker='o', markerfacecolor='red', markersize=8)\n",
        "                                 )\n",
        "\n",
        "ax.grid(True)\n",
        "ax.set_title(f'Box Plot Distribusi {column_to_plot}')\n",
        "ax.set_xlabel(column_to_plot)\n",
        "\n",
        "plt.tight_layout()\n",
        "plt.show()"
      ],
      "metadata": {
        "colab": {
          "base_uri": "https://localhost:8080/",
          "height": 507
        },
        "id": "nXWT7yd7ffus",
        "outputId": "7a609722-666b-4b41-dcbc-3de4275e1e5f"
      },
      "execution_count": 5,
      "outputs": [
        {
          "output_type": "display_data",
          "data": {
            "text/plain": [
              "<Figure size 800x500 with 1 Axes>"
            ],
            "image/png": "[encoded data removed]"
          },
          "metadata": {}
        }
      ]
    },
    {
      "cell_type": "code",
      "source": [
        "import matplotlib.pyplot as plt\n",
        "\n",
        "column_to_plot = 'DepDelayMinutes'\n",
        "\n",
        "fig, ax = plt.subplots(figsize=(8, 5))\n",
        "\n",
        "df_drop[column_to_plot].plot.box(ax=ax,\n",
        "                                  patch_artist=True,\n",
        "                                  showfliers=True,\n",
        "                                  notch=False,\n",
        "                                  vert=False,\n",
        "                                  whis=0.5,\n",
        "                                  widths=0.5,\n",
        "                                  boxprops=dict(facecolor='lightblue', color='black'),\n",
        "                                  capprops=dict(color='black'),\n",
        "                                  medianprops=dict(color='blue', linewidth=2),\n",
        "                                  flierprops=dict(marker='o', markerfacecolor='red', markersize=8)\n",
        "                                 )\n",
        "\n",
        "ax.grid(True)\n",
        "ax.set_title(f'Box Plot Distribusi {column_to_plot}')\n",
        "ax.set_xlabel(column_to_plot)\n",
        "\n",
        "plt.tight_layout()\n",
        "plt.show()"
      ],
      "metadata": {
        "colab": {
          "base_uri": "https://localhost:8080/",
          "height": 507
        },
        "id": "OD2MI37hnqGU",
        "outputId": "a4e50650-094e-4770-e66f-881a144a09e6"
      },
      "execution_count": 6,
      "outputs": [
        {
          "output_type": "display_data",
          "data": {
            "text/plain": [
              "<Figure size 800x500 with 1 Axes>"
            ],
            "image/png": "[encoded data removed]"
          },
          "metadata": {}
        }
      ]
    },
    {
      "cell_type": "code",
      "source": [
        "df_drop['DepDelayMinutes'].describe()"
      ],
      "metadata": {
        "colab": {
          "base_uri": "https://localhost:8080/",
          "height": 335
        },
        "id": "IdWbS4RkyD1M",
        "outputId": "122955cf-ed9f-438e-dbdc-def8427f8ead"
      },
      "execution_count": 7,
      "outputs": [
        {
          "output_type": "execute_result",
          "data": {
            "text/plain": [
              "count    969108.000000\n",
              "mean         15.439390\n",
              "std          51.141821\n",
              "min           0.000000\n",
              "25%           0.000000\n",
              "50%           0.000000\n",
              "75%          10.000000\n",
              "max        2545.000000\n",
              "Name: DepDelayMinutes, dtype: float64"
            ],
            "text/html": [
              "<div>\n",
              "<style scoped>\n",
              "    .dataframe tbody tr th:only-of-type {\n",
              "        vertical-align: middle;\n",
              "    }\n",
              "\n",
              "    .dataframe tbody tr th {\n",
              "        vertical-align: top;\n",
              "    }\n",
              "\n",
              "    .dataframe thead th {\n",
              "        text-align: right;\n",
              "    }\n",
              "</style>\n",
              "<table border=\"1\" class=\"dataframe\">\n",
              "  <thead>\n",
              "    <tr style=\"text-align: right;\">\n",
              "      <th></th>\n",
              "      <th>DepDelayMinutes</th>\n",
              "    </tr>\n",
              "  </thead>\n",
              "  <tbody>\n",
              "    <tr>\n",
              "      <th>count</th>\n",
              "      <td>969108.000000</td>\n",
              "    </tr>\n",
              "    <tr>\n",
              "      <th>mean</th>\n",
              "      <td>15.439390</td>\n",
              "    </tr>\n",
              "    <tr>\n",
              "      <th>std</th>\n",
              "      <td>51.141821</td>\n",
              "    </tr>\n",
              "    <tr>\n",
              "      <th>min</th>\n",
              "      <td>0.000000</td>\n",
              "    </tr>\n",
              "    <tr>\n",
              "      <th>25%</th>\n",
              "      <td>0.000000</td>\n",
              "    </tr>\n",
              "    <tr>\n",
              "      <th>50%</th>\n",
              "      <td>0.000000</td>\n",
              "    </tr>\n",
              "    <tr>\n",
              "      <th>75%</th>\n",
              "      <td>10.000000</td>\n",
              "    </tr>\n",
              "    <tr>\n",
              "      <th>max</th>\n",
              "      <td>2545.000000</td>\n",
              "    </tr>\n",
              "  </tbody>\n",
              "</table>\n",
              "</div><br><label><b>dtype:</b> float64</label>"
            ]
          },
          "metadata": {},
          "execution_count": 7
        }
      ]
    },
    {
      "cell_type": "code",
      "source": [
        "df_drop['ArrDelayMinutes'].describe()"
      ],
      "metadata": {
        "colab": {
          "base_uri": "https://localhost:8080/",
          "height": 335
        },
        "id": "fzE6JOirya8b",
        "outputId": "496e4a57-e876-4a2e-cbe7-da5189fbf231"
      },
      "execution_count": 8,
      "outputs": [
        {
          "output_type": "execute_result",
          "data": {
            "text/plain": [
              "count    966403.000000\n",
              "mean         15.256811\n",
              "std          50.844300\n",
              "min           0.000000\n",
              "25%           0.000000\n",
              "50%           0.000000\n",
              "75%          10.000000\n",
              "max        2600.000000\n",
              "Name: ArrDelayMinutes, dtype: float64"
            ],
            "text/html": [
              "<div>\n",
              "<style scoped>\n",
              "    .dataframe tbody tr th:only-of-type {\n",
              "        vertical-align: middle;\n",
              "    }\n",
              "\n",
              "    .dataframe tbody tr th {\n",
              "        vertical-align: top;\n",
              "    }\n",
              "\n",
              "    .dataframe thead th {\n",
              "        text-align: right;\n",
              "    }\n",
              "</style>\n",
              "<table border=\"1\" class=\"dataframe\">\n",
              "  <thead>\n",
              "    <tr style=\"text-align: right;\">\n",
              "      <th></th>\n",
              "      <th>ArrDelayMinutes</th>\n",
              "    </tr>\n",
              "  </thead>\n",
              "  <tbody>\n",
              "    <tr>\n",
              "      <th>count</th>\n",
              "      <td>966403.000000</td>\n",
              "    </tr>\n",
              "    <tr>\n",
              "      <th>mean</th>\n",
              "      <td>15.256811</td>\n",
              "    </tr>\n",
              "    <tr>\n",
              "      <th>std</th>\n",
              "      <td>50.844300</td>\n",
              "    </tr>\n",
              "    <tr>\n",
              "      <th>min</th>\n",
              "      <td>0.000000</td>\n",
              "    </tr>\n",
              "    <tr>\n",
              "      <th>25%</th>\n",
              "      <td>0.000000</td>\n",
              "    </tr>\n",
              "    <tr>\n",
              "      <th>50%</th>\n",
              "      <td>0.000000</td>\n",
              "    </tr>\n",
              "    <tr>\n",
              "      <th>75%</th>\n",
              "      <td>10.000000</td>\n",
              "    </tr>\n",
              "    <tr>\n",
              "      <th>max</th>\n",
              "      <td>2600.000000</td>\n",
              "    </tr>\n",
              "  </tbody>\n",
              "</table>\n",
              "</div><br><label><b>dtype:</b> float64</label>"
            ]
          },
          "metadata": {},
          "execution_count": 8
        }
      ]
    },
    {
      "cell_type": "markdown",
      "source": [
        "# Proses data ke PySpark\n",
        "\n",
        "---\n",
        "\n"
      ],
      "metadata": {
        "id": "_8UkMjvNpYk5"
      }
    },
    {
      "cell_type": "code",
      "source": [
        "from pyspark.sql import SparkSession\n",
        "spark = SparkSession.builder.appName(\"Pyspark\").getOrCreate()\n",
        "df_drop.to_parquet('flight_data.parquet', engine='pyarrow')\n",
        "\n",
        "sdf = spark.read.parquet('flight_data.parquet')\n",
        "sdf.printSchema()\n",
        "sdf.show(5)"
      ],
      "metadata": {
        "colab": {
          "base_uri": "https://localhost:8080/"
        },
        "collapsed": true,
        "id": "uyg-ac7_C3JF",
        "outputId": "b413f41a-71a7-4448-926d-c8669a220394"
      },
      "execution_count": 9,
      "outputs": [
        {
          "output_type": "stream",
          "name": "stdout",
          "text": [
            "root\n",
            " |-- FlightDate: timestamp_ntz (nullable = true)\n",
            " |-- Airline: string (nullable = true)\n",
            " |-- Origin: string (nullable = true)\n",
            " |-- Dest: string (nullable = true)\n",
            " |-- Cancelled: boolean (nullable = true)\n",
            " |-- Diverted: boolean (nullable = true)\n",
            " |-- CRSDepTime: long (nullable = true)\n",
            " |-- DepTime: double (nullable = true)\n",
            " |-- DepDelayMinutes: double (nullable = true)\n",
            " |-- DepDelay: double (nullable = true)\n",
            " |-- ArrTime: double (nullable = true)\n",
            " |-- ArrDelayMinutes: double (nullable = true)\n",
            " |-- AirTime: double (nullable = true)\n",
            " |-- CRSElapsedTime: double (nullable = true)\n",
            " |-- ActualElapsedTime: double (nullable = true)\n",
            " |-- Distance: double (nullable = true)\n",
            " |-- Year: long (nullable = true)\n",
            " |-- Quarter: long (nullable = true)\n",
            " |-- Month: long (nullable = true)\n",
            " |-- DayofMonth: long (nullable = true)\n",
            " |-- DayOfWeek: long (nullable = true)\n",
            " |-- Operated_or_Branded_Code_Share_Partners: string (nullable = true)\n",
            " |-- Operating_Airline: string (nullable = true)\n",
            " |-- DOT_ID_Operating_Airline: long (nullable = true)\n",
            " |-- IATA_Code_Operating_Airline: string (nullable = true)\n",
            " |-- Tail_Number: string (nullable = true)\n",
            " |-- OriginCityName: string (nullable = true)\n",
            " |-- OriginState: string (nullable = true)\n",
            " |-- OriginStateFips: long (nullable = true)\n",
            " |-- OriginStateName: string (nullable = true)\n",
            " |-- OriginWac: long (nullable = true)\n",
            " |-- DestCityName: string (nullable = true)\n",
            " |-- DestState: string (nullable = true)\n",
            " |-- DestStateFips: long (nullable = true)\n",
            " |-- DestStateName: string (nullable = true)\n",
            " |-- DestWac: long (nullable = true)\n",
            " |-- DepDel15: double (nullable = true)\n",
            " |-- DepartureDelayGroups: double (nullable = true)\n",
            " |-- DepTimeBlk: string (nullable = true)\n",
            " |-- TaxiOut: double (nullable = true)\n",
            " |-- WheelsOff: double (nullable = true)\n",
            " |-- WheelsOn: double (nullable = true)\n",
            " |-- TaxiIn: double (nullable = true)\n",
            " |-- CRSArrTime: long (nullable = true)\n",
            " |-- ArrDelay: double (nullable = true)\n",
            " |-- ArrDel15: double (nullable = true)\n",
            " |-- ArrivalDelayGroups: double (nullable = true)\n",
            " |-- ArrTimeBlk: string (nullable = true)\n",
            " |-- DistanceGroup: long (nullable = true)\n",
            " |-- DivAirportLandings: long (nullable = true)\n",
            " |-- __index_level_0__: long (nullable = true)\n",
            "\n",
            "+-------------------+--------------------+------+----+---------+--------+----------+-------+---------------+--------+-------+---------------+-------+--------------+-----------------+--------+----+-------+-----+----------+---------+---------------------------------------+-----------------+------------------------+---------------------------+-----------+--------------------+-----------+---------------+---------------+---------+-------------------+---------+-------------+-------------+-------+--------+--------------------+----------+-------+---------+--------+------+----------+--------+--------+------------------+----------+-------------+------------------+-----------------+\n",
            "|         FlightDate|             Airline|Origin|Dest|Cancelled|Diverted|CRSDepTime|DepTime|DepDelayMinutes|DepDelay|ArrTime|ArrDelayMinutes|AirTime|CRSElapsedTime|ActualElapsedTime|Distance|Year|Quarter|Month|DayofMonth|DayOfWeek|Operated_or_Branded_Code_Share_Partners|Operating_Airline|DOT_ID_Operating_Airline|IATA_Code_Operating_Airline|Tail_Number|      OriginCityName|OriginState|OriginStateFips|OriginStateName|OriginWac|       DestCityName|DestState|DestStateFips|DestStateName|DestWac|DepDel15|DepartureDelayGroups|DepTimeBlk|TaxiOut|WheelsOff|WheelsOn|TaxiIn|CRSArrTime|ArrDelay|ArrDel15|ArrivalDelayGroups|ArrTimeBlk|DistanceGroup|DivAirportLandings|__index_level_0__|\n",
            "+-------------------+--------------------+------+----+---------+--------+----------+-------+---------------+--------+-------+---------------+-------+--------------+-----------------+--------+----+-------+-----+----------+---------+---------------------------------------+-----------------+------------------------+---------------------------+-----------+--------------------+-----------+---------------+---------------+---------+-------------------+---------+-------------+-------------+-------+--------+--------------------+----------+-------+---------+--------+------+----------+--------+--------+------------------+----------+-------------+------------------+-----------------+\n",
            "|2022-04-04 00:00:00|Commutair Aka Cha...|   GJT| DEN|    false|   false|      1133| 1123.0|            0.0|   -10.0| 1228.0|            0.0|   40.0|          72.0|             65.0|   212.0|2022|      2|    4|         4|        1|                           UA_CODESHARE|               C5|                   20445|                         C5|     N21144|  Grand Junction, CO|         CO|              8|       Colorado|       82|         Denver, CO|       CO|            8|     Colorado|     82|     0.0|                -1.0| 1100-1159|   17.0|   1140.0|  1220.0|   8.0|      1245|   -17.0|     0.0|              -2.0| 1200-1259|            1|                 0|                0|\n",
            "|2022-04-04 00:00:00|Commutair Aka Cha...|   HRL| IAH|    false|   false|       732|  728.0|            0.0|    -4.0|  848.0|            0.0|   55.0|          77.0|             80.0|   295.0|2022|      2|    4|         4|        1|                           UA_CODESHARE|               C5|                   20445|                         C5|     N16170|Harlingen/San Ben...|         TX|             48|          Texas|       74|        Houston, TX|       TX|           48|        Texas|     74|     0.0|                -1.0| 0700-0759|   16.0|    744.0|   839.0|   9.0|       849|    -1.0|     0.0|              -1.0| 0800-0859|            2|                 0|                1|\n",
            "|2022-04-04 00:00:00|Commutair Aka Cha...|   DRO| DEN|    false|   false|      1529| 1514.0|            0.0|   -15.0| 1636.0|            0.0|   47.0|          70.0|             82.0|   251.0|2022|      2|    4|         4|        1|                           UA_CODESHARE|               C5|                   20445|                         C5|     N21144|         Durango, CO|         CO|              8|       Colorado|       82|         Denver, CO|       CO|            8|     Colorado|     82|     0.0|                -1.0| 1500-1559|   21.0|   1535.0|  1622.0|  14.0|      1639|    -3.0|     0.0|              -1.0| 1600-1659|            2|                 0|                2|\n",
            "|2022-04-04 00:00:00|Commutair Aka Cha...|   IAH| GPT|    false|   false|      1435| 1430.0|            0.0|    -5.0| 1547.0|            0.0|   57.0|          90.0|             77.0|   376.0|2022|      2|    4|         4|        1|                           UA_CODESHARE|               C5|                   20445|                         C5|     N11184|         Houston, TX|         TX|             48|          Texas|       74|Gulfport/Biloxi, MS|       MS|           28|  Mississippi|     53|     0.0|                -1.0| 1400-1459|   16.0|   1446.0|  1543.0|   4.0|      1605|   -18.0|     0.0|              -2.0| 1600-1659|            2|                 0|                3|\n",
            "|2022-04-04 00:00:00|Commutair Aka Cha...|   DRO| DEN|    false|   false|      1135| 1135.0|            0.0|     0.0| 1251.0|            6.0|   49.0|          70.0|             76.0|   251.0|2022|      2|    4|         4|        1|                           UA_CODESHARE|               C5|                   20445|                         C5|     N17146|         Durango, CO|         CO|              8|       Colorado|       82|         Denver, CO|       CO|            8|     Colorado|     82|     0.0|                 0.0| 1100-1159|   19.0|   1154.0|  1243.0|   8.0|      1245|     6.0|     0.0|               0.0| 1200-1259|            2|                 0|                4|\n",
            "+-------------------+--------------------+------+----+---------+--------+----------+-------+---------------+--------+-------+---------------+-------+--------------+-----------------+--------+----+-------+-----+----------+---------+---------------------------------------+-----------------+------------------------+---------------------------+-----------+--------------------+-----------+---------------+---------------+---------+-------------------+---------+-------------+-------------+-------+--------+--------------------+----------+-------+---------+--------+------+----------+--------+--------+------------------+----------+-------------+------------------+-----------------+\n",
            "only showing top 5 rows\n",
            "\n"
          ]
        }
      ]
    },
    {
      "cell_type": "markdown",
      "source": [
        "# Sebelum normalisasi data kosong\n",
        "\n",
        "---\n",
        "\n"
      ],
      "metadata": {
        "id": "Zv1fvSmcpnef"
      }
    },
    {
      "cell_type": "code",
      "source": [
        "from pyspark.sql.functions import isnull, when, count, col\n",
        "\n",
        "null_counts = sdf.select([count(when(isnull(c), c)).alias(c) for c in sdf.columns])\n",
        "null_counts.show()"
      ],
      "metadata": {
        "colab": {
          "base_uri": "https://localhost:8080/"
        },
        "id": "NFVcN_D9oxlJ",
        "outputId": "98cb6489-d805-4814-a425-babc877f699d"
      },
      "execution_count": 10,
      "outputs": [
        {
          "output_type": "stream",
          "name": "stdout",
          "text": [
            "+----------+-------+------+----+---------+--------+----------+-------+---------------+--------+-------+---------------+-------+--------------+-----------------+--------+----+-------+-----+----------+---------+---------------------------------------+-----------------+------------------------+---------------------------+-----------+--------------+-----------+---------------+---------------+---------+------------+---------+-------------+-------------+-------+--------+--------------------+----------+-------+---------+--------+------+----------+--------+--------+------------------+----------+-------------+------------------+-----------------+\n",
            "|FlightDate|Airline|Origin|Dest|Cancelled|Diverted|CRSDepTime|DepTime|DepDelayMinutes|DepDelay|ArrTime|ArrDelayMinutes|AirTime|CRSElapsedTime|ActualElapsedTime|Distance|Year|Quarter|Month|DayofMonth|DayOfWeek|Operated_or_Branded_Code_Share_Partners|Operating_Airline|DOT_ID_Operating_Airline|IATA_Code_Operating_Airline|Tail_Number|OriginCityName|OriginState|OriginStateFips|OriginStateName|OriginWac|DestCityName|DestState|DestStateFips|DestStateName|DestWac|DepDel15|DepartureDelayGroups|DepTimeBlk|TaxiOut|WheelsOff|WheelsOn|TaxiIn|CRSArrTime|ArrDelay|ArrDel15|ArrivalDelayGroups|ArrTimeBlk|DistanceGroup|DivAirportLandings|__index_level_0__|\n",
            "+----------+-------+------+----+---------+--------+----------+-------+---------------+--------+-------+---------------+-------+--------------+-----------------+--------+----+-------+-----+----------+---------+---------------------------------------+-----------------+------------------------+---------------------------+-----------+--------------+-----------+---------------+---------------+---------+------------+---------+-------------+-------------+-------+--------+--------------------+----------+-------+---------+--------+------+----------+--------+--------+------------------+----------+-------------+------------------+-----------------+\n",
            "|         0|      0|     0|   0|        0|       0|         0|  30874|          30892|   30892|  31742|          33597|  33597|             0|            33597|       0|   0|      0|    0|         0|        0|                                      0|                0|                       0|                          0|       4845|             0|          0|              0|              0|        0|           0|        0|            0|            0|      0|   30892|               30892|         0|  31316|    31316|   31743| 31743|         0|   33597|   33597|             33597|         0|            0|                 0|                0|\n",
            "+----------+-------+------+----+---------+--------+----------+-------+---------------+--------+-------+---------------+-------+--------------+-----------------+--------+----+-------+-----+----------+---------+---------------------------------------+-----------------+------------------------+---------------------------+-----------+--------------+-----------+---------------+---------------+---------+------------+---------+-------------+-------------+-------+--------+--------------------+----------+-------+---------+--------+------+----------+--------+--------+------------------+----------+-------------+------------------+-----------------+\n",
            "\n"
          ]
        }
      ]
    },
    {
      "cell_type": "code",
      "source": [
        "from pyspark.ml.feature import Imputer\n",
        "\n",
        "numerical_cols = [col_name for col_name, col_type in sdf.dtypes if col_type in [\"int\", \"double\", \"float\"]]\n",
        "categorical_cols = [col_name for col_name, col_type in sdf.dtypes if col_type not in [\"int\", \"double\", \"float\"] and col_name != \"Tail_Number\"]\n",
        "\n",
        "#Numerik\n",
        "imputer = Imputer(inputCols=numerical_cols,\n",
        "                  outputCols=numerical_cols,\n",
        "                  strategy=\"median\")\n",
        "imputer = imputer.fit(sdf)\n",
        "sdf_clean = imputer.transform(sdf)\n",
        "\n",
        "#Kategori\n",
        "from pyspark.sql.functions import when, isnull, count, col\n",
        "\n",
        "for cat_col in categorical_cols:\n",
        "  mode_value = sdf_clean.groupBy(cat_col).count().orderBy(col(\"count\").desc()).first()[0]\n",
        "  sdf_clean = sdf_clean.withColumn(cat_col, when(isnull(cat_col), mode_value).otherwise(col(cat_col)))\n",
        "\n",
        "sdf_clean = sdf_clean.fillna(\"Unknown\", subset=[\"Tail_Number\"])\n"
      ],
      "metadata": {
        "id": "8It3dDRHFux8"
      },
      "execution_count": 11,
      "outputs": []
    },
    {
      "cell_type": "markdown",
      "source": [
        "# Setelah normalisasi\n",
        "\n",
        "---\n",
        "\n"
      ],
      "metadata": {
        "id": "p-Q34_iepwGN"
      }
    },
    {
      "cell_type": "code",
      "source": [
        "from pyspark.sql.functions import isnull, when, count, col\n",
        "\n",
        "null_counts = sdf_clean.select([count(when(isnull(c), c)).alias(c) for c in sdf_clean.columns])\n",
        "null_counts.show()\n"
      ],
      "metadata": {
        "colab": {
          "base_uri": "https://localhost:8080/"
        },
        "id": "BLDfsDYDGcju",
        "outputId": "b181cfb9-a028-462c-9577-85c53c961d95"
      },
      "execution_count": 12,
      "outputs": [
        {
          "output_type": "stream",
          "name": "stdout",
          "text": [
            "+----------+-------+------+----+---------+--------+----------+-------+---------------+--------+-------+---------------+-------+--------------+-----------------+--------+----+-------+-----+----------+---------+---------------------------------------+-----------------+------------------------+---------------------------+-----------+--------------+-----------+---------------+---------------+---------+------------+---------+-------------+-------------+-------+--------+--------------------+----------+-------+---------+--------+------+----------+--------+--------+------------------+----------+-------------+------------------+-----------------+\n",
            "|FlightDate|Airline|Origin|Dest|Cancelled|Diverted|CRSDepTime|DepTime|DepDelayMinutes|DepDelay|ArrTime|ArrDelayMinutes|AirTime|CRSElapsedTime|ActualElapsedTime|Distance|Year|Quarter|Month|DayofMonth|DayOfWeek|Operated_or_Branded_Code_Share_Partners|Operating_Airline|DOT_ID_Operating_Airline|IATA_Code_Operating_Airline|Tail_Number|OriginCityName|OriginState|OriginStateFips|OriginStateName|OriginWac|DestCityName|DestState|DestStateFips|DestStateName|DestWac|DepDel15|DepartureDelayGroups|DepTimeBlk|TaxiOut|WheelsOff|WheelsOn|TaxiIn|CRSArrTime|ArrDelay|ArrDel15|ArrivalDelayGroups|ArrTimeBlk|DistanceGroup|DivAirportLandings|__index_level_0__|\n",
            "+----------+-------+------+----+---------+--------+----------+-------+---------------+--------+-------+---------------+-------+--------------+-----------------+--------+----+-------+-----+----------+---------+---------------------------------------+-----------------+------------------------+---------------------------+-----------+--------------+-----------+---------------+---------------+---------+------------+---------+-------------+-------------+-------+--------+--------------------+----------+-------+---------+--------+------+----------+--------+--------+------------------+----------+-------------+------------------+-----------------+\n",
            "|         0|      0|     0|   0|        0|       0|         0|      0|              0|       0|      0|              0|      0|             0|                0|       0|   0|      0|    0|         0|        0|                                      0|                0|                       0|                          0|          0|             0|          0|              0|              0|        0|           0|        0|            0|            0|      0|       0|                   0|         0|      0|        0|       0|     0|         0|       0|       0|                 0|         0|            0|                 0|                0|\n",
            "+----------+-------+------+----+---------+--------+----------+-------+---------------+--------+-------+---------------+-------+--------------+-----------------+--------+----+-------+-----+----------+---------+---------------------------------------+-----------------+------------------------+---------------------------+-----------+--------------+-----------+---------------+---------------+---------+------------+---------+-------------+-------------+-------+--------+--------------------+----------+-------+---------+--------+------+----------+--------+--------+------------------+----------+-------------+------------------+-----------------+\n",
            "\n"
          ]
        }
      ]
    },
    {
      "cell_type": "markdown",
      "source": [
        "# Persiapan data sebelum diproses model\n",
        "\n",
        "---\n",
        "\n"
      ],
      "metadata": {
        "id": "8A9Q1p5ztHBX"
      }
    },
    {
      "cell_type": "markdown",
      "source": [
        "**Penerapan logaritma pada kolom data untuk input machine learning yang lebih baik**"
      ],
      "metadata": {
        "id": "Xkx0JtQLtPDR"
      }
    },
    {
      "cell_type": "code",
      "source": [
        "delay_columns = [\n",
        "    \"DepDelayMinutes\", \"CRSDepTime\", \"CRSElapsedTime\", \"Distance\",\n",
        "    \"TaxiOut\", \"TaxiIn\", \"Airline\", \"Origin\", \"Dest\", \"DayOfWeek\", \"Month\",\"Tail_Number\",\n",
        "    \"DOT_ID_Operating_Airline\"\n",
        "]\n",
        "delay_data = sdf_clean.select(*delay_columns)\n",
        "delay_data.select(\"DepDelayMinutes\").summary().show()\n"
      ],
      "metadata": {
        "colab": {
          "base_uri": "https://localhost:8080/"
        },
        "id": "KiTODa2GqCJd",
        "outputId": "6b16adcc-f360-49ec-8ac8-b784392360ac"
      },
      "execution_count": 13,
      "outputs": [
        {
          "output_type": "stream",
          "name": "stdout",
          "text": [
            "+-------+-----------------+\n",
            "|summary|  DepDelayMinutes|\n",
            "+-------+-----------------+\n",
            "|  count|          1000000|\n",
            "|   mean|        14.962436|\n",
            "| stddev|50.41651061676754|\n",
            "|    min|              0.0|\n",
            "|    25%|              0.0|\n",
            "|    50%|              0.0|\n",
            "|    75%|              9.0|\n",
            "|    max|           2545.0|\n",
            "+-------+-----------------+\n",
            "\n"
          ]
        }
      ]
    },
    {
      "cell_type": "code",
      "source": [
        "from pyspark.sql import functions as F\n",
        "\n",
        "percentile_95_dep = delay_data.approxQuantile(\"DepDelayMinutes\", [0.95], 0.01)[0]\n",
        "\n",
        "delay_data_log = delay_data.withColumn(\"DepDelayMinutes\",\n",
        "                                   F.when(F.col(\"DepDelayMinutes\") > percentile_95_dep, percentile_95_dep)\n",
        "                                   .otherwise(F.col(\"DepDelayMinutes\")))\n",
        "\n",
        "delay_data_log.show(5)"
      ],
      "metadata": {
        "colab": {
          "base_uri": "https://localhost:8080/"
        },
        "id": "rZH4NXxnqCGV",
        "outputId": "db20bf71-81eb-4c60-c19a-e731000fea2c"
      },
      "execution_count": 14,
      "outputs": [
        {
          "output_type": "stream",
          "name": "stdout",
          "text": [
            "+---------------+----------+--------------+--------+-------+------+--------------------+------+----+---------+-----+-----------+------------------------+\n",
            "|DepDelayMinutes|CRSDepTime|CRSElapsedTime|Distance|TaxiOut|TaxiIn|             Airline|Origin|Dest|DayOfWeek|Month|Tail_Number|DOT_ID_Operating_Airline|\n",
            "+---------------+----------+--------------+--------+-------+------+--------------------+------+----+---------+-----+-----------+------------------------+\n",
            "|            0.0|      1133|          72.0|   212.0|   17.0|   8.0|Commutair Aka Cha...|   GJT| DEN|        1|    4|     N21144|                   20445|\n",
            "|            0.0|       732|          77.0|   295.0|   16.0|   9.0|Commutair Aka Cha...|   HRL| IAH|        1|    4|     N16170|                   20445|\n",
            "|            0.0|      1529|          70.0|   251.0|   21.0|  14.0|Commutair Aka Cha...|   DRO| DEN|        1|    4|     N21144|                   20445|\n",
            "|            0.0|      1435|          90.0|   376.0|   16.0|   4.0|Commutair Aka Cha...|   IAH| GPT|        1|    4|     N11184|                   20445|\n",
            "|            0.0|      1135|          70.0|   251.0|   19.0|   8.0|Commutair Aka Cha...|   DRO| DEN|        1|    4|     N17146|                   20445|\n",
            "+---------------+----------+--------------+--------+-------+------+--------------------+------+----+---------+-----+-----------+------------------------+\n",
            "only showing top 5 rows\n",
            "\n"
          ]
        }
      ]
    },
    {
      "cell_type": "code",
      "source": [
        "delay_data_log = delay_data_log.withColumn(\"HourOfDay\", (F.col(\"CRSDepTime\") / 100).cast(\"int\"))\n",
        "delay_data_log = delay_data_log.withColumn(\"IsPeakHours\",\n",
        "                                           F.when((F.col(\"HourOfDay\") >= 7) & (F.col(\"HourOfDay\") <= 10), 1)\n",
        "                                           .when((F.col(\"HourOfDay\") >= 16) & (F.col(\"HourOfDay\") <= 19), 1)\n",
        "                                           .otherwise(0))\n",
        "\n",
        "delay_data_log = delay_data_log.withColumn(\"Speed\", F.col(\"Distance\") / F.col(\"CRSElapsedTime\"))\n",
        "\n",
        "delay_data_log = delay_data_log.withColumn(\"Airline-Origin\", F.concat_ws(\"-\", F.col(\"Airline\"), F.col(\"Origin\")))\n"
      ],
      "metadata": {
        "id": "vJ0RhzcuTi3h"
      },
      "execution_count": 15,
      "outputs": []
    },
    {
      "cell_type": "code",
      "source": [
        "delay_data_log.printSchema()"
      ],
      "metadata": {
        "colab": {
          "base_uri": "https://localhost:8080/"
        },
        "id": "7vBoQE7jJATS",
        "outputId": "d7b74e4d-461d-40b5-dc96-94a1c3470453"
      },
      "execution_count": 16,
      "outputs": [
        {
          "output_type": "stream",
          "name": "stdout",
          "text": [
            "root\n",
            " |-- DepDelayMinutes: double (nullable = true)\n",
            " |-- CRSDepTime: long (nullable = true)\n",
            " |-- CRSElapsedTime: double (nullable = true)\n",
            " |-- Distance: double (nullable = true)\n",
            " |-- TaxiOut: double (nullable = true)\n",
            " |-- TaxiIn: double (nullable = true)\n",
            " |-- Airline: string (nullable = true)\n",
            " |-- Origin: string (nullable = true)\n",
            " |-- Dest: string (nullable = true)\n",
            " |-- DayOfWeek: long (nullable = true)\n",
            " |-- Month: long (nullable = true)\n",
            " |-- Tail_Number: string (nullable = false)\n",
            " |-- DOT_ID_Operating_Airline: long (nullable = true)\n",
            " |-- HourOfDay: integer (nullable = true)\n",
            " |-- IsPeakHours: integer (nullable = false)\n",
            " |-- Speed: double (nullable = true)\n",
            " |-- Airline-Origin: string (nullable = false)\n",
            "\n"
          ]
        }
      ]
    },
    {
      "cell_type": "markdown",
      "source": [
        "**Mengubah kolom kategori menjadi data index**"
      ],
      "metadata": {
        "id": "LsM-eN5str-m"
      }
    },
    {
      "cell_type": "code",
      "source": [
        "from pyspark.ml.feature import StringIndexer\n",
        "\n",
        "categorical_columns = [\"Airline\", \"Origin\", \"Dest\",\"Tail_Number\",\n",
        "                       \"Airline-Origin\"]\n",
        "\n",
        "from pyspark.ml.feature import VectorAssembler, StandardScaler\n",
        "\n",
        "#Proses Vektorisasi Kolom Numerik\n",
        "numeric_columns = [x for x in delay_data_log.columns if x not in categorical_columns]\n",
        "delay_assembler = VectorAssembler(inputCols=numeric_columns, outputCol=\"numeric_features\")\n",
        "delay_data_log = delay_assembler.transform(delay_data_log)\n",
        "\n",
        "#Proses Standarisasi Skala Kolom Numerik\n",
        "delay_scaler = StandardScaler(inputCol=\"numeric_features\", outputCol=\"scaled_numeric_features\", withMean=True, withStd=True)\n",
        "delay_scaler_model = delay_scaler.fit(delay_data_log)\n",
        "delay_data_log = delay_scaler_model.transform(delay_data_log)\n",
        "\n",
        "\n",
        "\n",
        "#Proses Mengubah Kolom berkategori menjadi index\n",
        "for col_name in categorical_columns:\n",
        "    indexer = StringIndexer(inputCol=col_name, outputCol=f\"{col_name}_Indexed\")\n",
        "    indexer_model = indexer.fit(delay_data_log)\n",
        "    delay_data_log = indexer_model.transform(delay_data_log)\n",
        "    indexer_model.write().overwrite().save(f\"{col_name}_indexer_model\")\n",
        "\n",
        "#Proses Mengubah Kolom-Kolom Index Kategori Menjadi One Hot Encoder\n",
        "from pyspark.ml.feature import OneHotEncoder\n",
        "\n",
        "categorical_columns_indexed = [f\"{x}_Indexed\" for x in categorical_columns]\n",
        "for col_name in categorical_columns_indexed:\n",
        "    one_hot_encoder = OneHotEncoder(inputCol=col_name, outputCol=f'{col_name}_OneHot')\n",
        "    delay_data_log = one_hot_encoder.fit(delay_data_log).transform(delay_data_log)"
      ],
      "metadata": {
        "collapsed": true,
        "id": "DKLdzqkEti4s"
      },
      "execution_count": 17,
      "outputs": []
    },
    {
      "cell_type": "code",
      "source": [
        "delay_data_log.show(5)\n",
        "delay_data_log.select('scaled_numeric_features').take(3)"
      ],
      "metadata": {
        "colab": {
          "base_uri": "https://localhost:8080/"
        },
        "id": "Lj-biWZl4F8b",
        "outputId": "f356fbf0-5719-4b6e-b719-d7df47ea4d5f"
      },
      "execution_count": 18,
      "outputs": [
        {
          "output_type": "stream",
          "name": "stdout",
          "text": [
            "+---------------+----------+--------------+--------+-------+------+--------------------+------+----+---------+-----+-----------+------------------------+---------+-----------+------------------+--------------------+--------------------+-----------------------+---------------+--------------+------------+-------------------+----------------------+----------------------+---------------------+-------------------+--------------------------+-----------------------------+\n",
            "|DepDelayMinutes|CRSDepTime|CRSElapsedTime|Distance|TaxiOut|TaxiIn|             Airline|Origin|Dest|DayOfWeek|Month|Tail_Number|DOT_ID_Operating_Airline|HourOfDay|IsPeakHours|             Speed|      Airline-Origin|    numeric_features|scaled_numeric_features|Airline_Indexed|Origin_Indexed|Dest_Indexed|Tail_Number_Indexed|Airline-Origin_Indexed|Airline_Indexed_OneHot|Origin_Indexed_OneHot|Dest_Indexed_OneHot|Tail_Number_Indexed_OneHot|Airline-Origin_Indexed_OneHot|\n",
            "+---------------+----------+--------------+--------+-------+------+--------------------+------+----+---------+-----+-----------+------------------------+---------+-----------+------------------+--------------------+--------------------+-----------------------+---------------+--------------+------------+-------------------+----------------------+----------------------+---------------------+-------------------+--------------------------+-----------------------------+\n",
            "|            0.0|      1133|          72.0|   212.0|   17.0|   8.0|Commutair Aka Cha...|   GJT| DEN|        1|    4|     N21144|                   20445|       11|          0|2.9444444444444446|Commutair Aka Cha...|[0.0,1133.0,72.0,...|   [-0.4959937190623...|           19.0|         164.0|         3.0|             4178.0|                1525.0|       (20,[19],[1.0])|    (366,[164],[1.0])|    (366,[3],[1.0])|       (5676,[4178],[1.0])|          (1968,[1525],[1.0])|\n",
            "|            0.0|       732|          77.0|   295.0|   16.0|   9.0|Commutair Aka Cha...|   HRL| IAH|        1|    4|     N16170|                   20445|        7|          1| 3.831168831168831|Commutair Aka Cha...|[0.0,732.0,77.0,2...|   [-0.4959937190623...|           19.0|         158.0|        16.0|             4064.0|                1533.0|       (20,[19],[1.0])|    (366,[158],[1.0])|   (366,[16],[1.0])|       (5676,[4064],[1.0])|          (1968,[1533],[1.0])|\n",
            "|            0.0|      1529|          70.0|   251.0|   21.0|  14.0|Commutair Aka Cha...|   DRO| DEN|        1|    4|     N21144|                   20445|       15|          0| 3.585714285714286|Commutair Aka Cha...|[0.0,1529.0,70.0,...|   [-0.4959937190623...|           19.0|         165.0|         3.0|             4178.0|                1344.0|       (20,[19],[1.0])|    (366,[165],[1.0])|    (366,[3],[1.0])|       (5676,[4178],[1.0])|          (1968,[1344],[1.0])|\n",
            "|            0.0|      1435|          90.0|   376.0|   16.0|   4.0|Commutair Aka Cha...|   IAH| GPT|        1|    4|     N11184|                   20445|       14|          0| 4.177777777777778|Commutair Aka Cha...|[0.0,1435.0,90.0,...|   [-0.4959937190623...|           19.0|          16.0|       175.0|             4495.0|                 111.0|       (20,[19],[1.0])|     (366,[16],[1.0])|  (366,[175],[1.0])|       (5676,[4495],[1.0])|           (1968,[111],[1.0])|\n",
            "|            0.0|      1135|          70.0|   251.0|   19.0|   8.0|Commutair Aka Cha...|   DRO| DEN|        1|    4|     N17146|                   20445|       11|          0| 3.585714285714286|Commutair Aka Cha...|[0.0,1135.0,70.0,...|   [-0.4959937190623...|           19.0|         165.0|         3.0|             4453.0|                1344.0|       (20,[19],[1.0])|    (366,[165],[1.0])|    (366,[3],[1.0])|       (5676,[4453],[1.0])|          (1968,[1344],[1.0])|\n",
            "+---------------+----------+--------------+--------+-------+------+--------------------+------+----+---------+-----+-----------+------------------------+---------+-----------+------------------+--------------------+--------------------+-----------------------+---------------+--------------+------------+-------------------+----------------------+----------------------+---------------------+-------------------+--------------------------+-----------------------------+\n",
            "only showing top 5 rows\n",
            "\n"
          ]
        },
        {
          "output_type": "execute_result",
          "data": {
            "text/plain": [
              "[Row(scaled_numeric_features=DenseVector([-0.496, -0.3973, -0.9749, -1.005, 0.0234, 0.0694, -1.528, 0.8505, 1.2268, -0.4111, -0.9764, -1.4913])),\n",
              " Row(scaled_numeric_features=DenseVector([-0.496, -1.2168, -0.9049, -0.8631, -0.0843, 0.2322, -1.528, 0.8505, 1.2268, -1.2324, 1.0242, -0.8769])),\n",
              " Row(scaled_numeric_features=DenseVector([-0.496, 0.412, -1.0029, -0.9383, 0.454, 1.0463, -1.528, 0.8505, 1.2268, 0.4102, -0.9764, -1.047]))]"
            ]
          },
          "metadata": {},
          "execution_count": 18
        }
      ]
    },
    {
      "cell_type": "markdown",
      "source": [
        "**Standarisasi data**"
      ],
      "metadata": {
        "id": "wLgGFbU9xC_h"
      }
    },
    {
      "cell_type": "code",
      "source": [
        "categorical_columns_indexed = [f\"{x}_Indexed_OneHot\" for x in categorical_columns]\n",
        "\n",
        "final_features = ['scaled_numeric_features']+categorical_columns_indexed\n",
        "\n",
        "assembler = VectorAssembler(inputCols=final_features,\n",
        "                            outputCol='final_feature_vector')\n",
        "\n",
        "delay_data_log = assembler.transform(delay_data_log)\n",
        "delay_data_log.show(3)"
      ],
      "metadata": {
        "colab": {
          "base_uri": "https://localhost:8080/"
        },
        "id": "zKmcNl-fxfte",
        "outputId": "fe1d5e55-8fd6-4c98-cd29-34b5a2d97edc"
      },
      "execution_count": 19,
      "outputs": [
        {
          "output_type": "stream",
          "name": "stdout",
          "text": [
            "+---------------+----------+--------------+--------+-------+------+--------------------+------+----+---------+-----+-----------+------------------------+---------+-----------+------------------+--------------------+--------------------+-----------------------+---------------+--------------+------------+-------------------+----------------------+----------------------+---------------------+-------------------+--------------------------+-----------------------------+--------------------+\n",
            "|DepDelayMinutes|CRSDepTime|CRSElapsedTime|Distance|TaxiOut|TaxiIn|             Airline|Origin|Dest|DayOfWeek|Month|Tail_Number|DOT_ID_Operating_Airline|HourOfDay|IsPeakHours|             Speed|      Airline-Origin|    numeric_features|scaled_numeric_features|Airline_Indexed|Origin_Indexed|Dest_Indexed|Tail_Number_Indexed|Airline-Origin_Indexed|Airline_Indexed_OneHot|Origin_Indexed_OneHot|Dest_Indexed_OneHot|Tail_Number_Indexed_OneHot|Airline-Origin_Indexed_OneHot|final_feature_vector|\n",
            "+---------------+----------+--------------+--------+-------+------+--------------------+------+----+---------+-----+-----------+------------------------+---------+-----------+------------------+--------------------+--------------------+-----------------------+---------------+--------------+------------+-------------------+----------------------+----------------------+---------------------+-------------------+--------------------------+-----------------------------+--------------------+\n",
            "|            0.0|      1133|          72.0|   212.0|   17.0|   8.0|Commutair Aka Cha...|   GJT| DEN|        1|    4|     N21144|                   20445|       11|          0|2.9444444444444446|Commutair Aka Cha...|[0.0,1133.0,72.0,...|   [-0.4959937190623...|           19.0|         164.0|         3.0|             4178.0|                1525.0|       (20,[19],[1.0])|    (366,[164],[1.0])|    (366,[3],[1.0])|       (5676,[4178],[1.0])|          (1968,[1525],[1.0])|(8408,[0,1,2,3,4,...|\n",
            "|            0.0|       732|          77.0|   295.0|   16.0|   9.0|Commutair Aka Cha...|   HRL| IAH|        1|    4|     N16170|                   20445|        7|          1| 3.831168831168831|Commutair Aka Cha...|[0.0,732.0,77.0,2...|   [-0.4959937190623...|           19.0|         158.0|        16.0|             4064.0|                1533.0|       (20,[19],[1.0])|    (366,[158],[1.0])|   (366,[16],[1.0])|       (5676,[4064],[1.0])|          (1968,[1533],[1.0])|(8408,[0,1,2,3,4,...|\n",
            "|            0.0|      1529|          70.0|   251.0|   21.0|  14.0|Commutair Aka Cha...|   DRO| DEN|        1|    4|     N21144|                   20445|       15|          0| 3.585714285714286|Commutair Aka Cha...|[0.0,1529.0,70.0,...|   [-0.4959937190623...|           19.0|         165.0|         3.0|             4178.0|                1344.0|       (20,[19],[1.0])|    (366,[165],[1.0])|    (366,[3],[1.0])|       (5676,[4178],[1.0])|          (1968,[1344],[1.0])|(8408,[0,1,2,3,4,...|\n",
            "+---------------+----------+--------------+--------+-------+------+--------------------+------+----+---------+-----+-----------+------------------------+---------+-----------+------------------+--------------------+--------------------+-----------------------+---------------+--------------+------------+-------------------+----------------------+----------------------+---------------------+-------------------+--------------------------+-----------------------------+--------------------+\n",
            "only showing top 3 rows\n",
            "\n"
          ]
        }
      ]
    },
    {
      "cell_type": "code",
      "source": [
        "delay_data_log.select('final_feature_vector').take(3)"
      ],
      "metadata": {
        "colab": {
          "base_uri": "https://localhost:8080/"
        },
        "id": "K0ZTPhbhxn91",
        "outputId": "4c22567f-afe2-4173-83a5-74c5cca7e6fe"
      },
      "execution_count": 20,
      "outputs": [
        {
          "output_type": "execute_result",
          "data": {
            "text/plain": [
              "[Row(final_feature_vector=SparseVector(8408, {0: -0.496, 1: -0.3973, 2: -0.9749, 3: -1.005, 4: 0.0234, 5: 0.0694, 6: -1.528, 7: 0.8505, 8: 1.2268, 9: -0.4111, 10: -0.9764, 11: -1.4913, 31: 1.0, 196: 1.0, 401: 1.0, 4942: 1.0, 7965: 1.0})),\n",
              " Row(final_feature_vector=SparseVector(8408, {0: -0.496, 1: -1.2168, 2: -0.9049, 3: -0.8631, 4: -0.0843, 5: 0.2322, 6: -1.528, 7: 0.8505, 8: 1.2268, 9: -1.2324, 10: 1.0242, 11: -0.8769, 31: 1.0, 190: 1.0, 414: 1.0, 4828: 1.0, 7973: 1.0})),\n",
              " Row(final_feature_vector=SparseVector(8408, {0: -0.496, 1: 0.412, 2: -1.0029, 3: -0.9383, 4: 0.454, 5: 1.0463, 6: -1.528, 7: 0.8505, 8: 1.2268, 9: 0.4102, 10: -0.9764, 11: -1.047, 31: 1.0, 197: 1.0, 401: 1.0, 4942: 1.0, 7784: 1.0}))]"
            ]
          },
          "metadata": {},
          "execution_count": 20
        }
      ]
    },
    {
      "cell_type": "code",
      "source": [
        "from pyspark.ml.regression import LinearRegression\n",
        "from pyspark.ml.evaluation import RegressionEvaluator\n",
        "import pyspark.sql.functions as F\n",
        "\n",
        "# Apply log transformation to DepDelayMinutes\n",
        "delay_data_log = delay_data_log.withColumn(\"log_DepDelayMinutes\", F.log1p(\"DepDelayMinutes\"))\n",
        "\n",
        "# Split data into training and testing sets\n",
        "delay_train, delay_test = delay_data_log.randomSplit([0.8, 0.2], seed=42)\n",
        "\n",
        "# Define and train the linear regression model on log-transformed data\n",
        "lr_DepDelay = LinearRegression(featuresCol='final_feature_vector', labelCol='log_DepDelayMinutes')\n",
        "lr_DepDelay_model = lr_DepDelay.fit(delay_train)\n",
        "\n",
        "# Predict log-transformed values and back-transform to original scale\n",
        "predictions_dep = lr_DepDelay_model.transform(delay_test) \\\n",
        "    .withColumn(\"predicted_DepDelayMinutes\", F.expm1(\"prediction\"))\n",
        "\n",
        "# Evaluate model performance on original scale\n",
        "evaluator = RegressionEvaluator(\n",
        "    labelCol=\"DepDelayMinutes\",\n",
        "    predictionCol=\"predicted_DepDelayMinutes\",\n",
        "    metricName=\"rmse\"\n",
        ")\n",
        "rmse = evaluator.evaluate(predictions_dep)\n",
        "print(f\"Model RMSE on Original Scale: {rmse}\")\n"
      ],
      "metadata": {
        "colab": {
          "base_uri": "https://localhost:8080/"
        },
        "id": "UTe-DCeTyqTT",
        "outputId": "5b32279b-bb51-4470-c976-b15d7307751a"
      },
      "execution_count": 21,
      "outputs": [
        {
          "output_type": "stream",
          "name": "stdout",
          "text": [
            "Model RMSE on Original Scale: 34.07061838253077\n"
          ]
        }
      ]
    },
    {
      "cell_type": "code",
      "source": [
        "import seaborn as sns\n",
        "\n",
        "dep_pd = predictions_dep.select(\"DepDelayMinutes\", \"predicted_DepDelayMinutes\").toPandas()\n",
        "\n",
        "# Departure Delay Plot\n",
        "plt.figure(figsize=(10, 6))\n",
        "sns.regplot(x=\"DepDelayMinutes\", y=\"predicted_DepDelayMinutes\", data=dep_pd,\n",
        "            scatter_kws={'alpha':0.5}, line_kws={'color': 'red'})\n",
        "plt.xlabel(\"Actual Departure Delay (minutes)\")\n",
        "plt.ylabel(\"Predicted Departure Delay (minutes)\")\n",
        "plt.title(\"Actual vs. Predicted Departure Delay\")\n",
        "plt.grid(True)\n",
        "plt.show()"
      ],
      "metadata": {
        "colab": {
          "base_uri": "https://localhost:8080/",
          "height": 564
        },
        "id": "7BsbXuSp6kiX",
        "outputId": "447f0698-3291-45df-b048-c12e6b2ea08e"
      },
      "execution_count": 22,
      "outputs": [
        {
          "output_type": "display_data",
          "data": {
            "text/plain": [
              "<Figure size 1000x600 with 1 Axes>"
            ],
            "image/png": "[encoded data removed]"
          },
          "metadata": {}
        }
      ]
    },
    {
      "cell_type": "code",
      "source": [
        "predDep_cross = predictions_dep[['predicted_DepDelayMinutes',\n",
        "                                        'DepDelayMinutes']]\n",
        "\n",
        "predDep_cross = predDep_cross.rdd\n",
        "predDep_cross = predDep_cross.map(tuple)\n",
        "from pyspark.mllib.evaluation import RegressionMetrics\n",
        "\n",
        "metrics = RegressionMetrics(predDep_cross)\n",
        "\n",
        "s = '''\n",
        "Mean Squared Error:      {0}\n",
        "Root Mean Squared Error: {1}\n",
        "Mean Absolute Error:     {2}\n",
        "R**2:                    {3}\n",
        "'''.format(metrics.meanSquaredError,\n",
        "           metrics.rootMeanSquaredError,\n",
        "           metrics.meanAbsoluteError,\n",
        "           metrics.r2\n",
        "           )\n",
        "\n",
        "print(s)"
      ],
      "metadata": {
        "colab": {
          "base_uri": "https://localhost:8080/"
        },
        "id": "shDjbvd1zHMy",
        "outputId": "b55d00c7-092b-486b-9242-a18f0ee05fd2"
      },
      "execution_count": 23,
      "outputs": [
        {
          "output_type": "stream",
          "name": "stderr",
          "text": [
            "/usr/local/lib/python3.10/dist-packages/pyspark/sql/context.py:158: FutureWarning: Deprecated in 3.0.0. Use SparkSession.builder.getOrCreate() instead.\n",
            "  warnings.warn(\n"
          ]
        },
        {
          "output_type": "stream",
          "name": "stdout",
          "text": [
            "\n",
            "Mean Squared Error:      1160.8070369680433\n",
            "Root Mean Squared Error: 34.07061838253077\n",
            "Mean Absolute Error:     11.034263200738966\n",
            "R**2:                    -1.611190321653278\n",
            "\n"
          ]
        }
      ]
    },
    {
      "cell_type": "markdown",
      "source": [
        "\n",
        "\n",
        "---\n",
        "\n",
        "\n",
        "\n",
        "---\n",
        "\n",
        "\n",
        "\n",
        "---\n",
        "\n",
        "\n",
        "\n",
        "---\n",
        "\n",
        "\n",
        "\n",
        "---\n",
        "\n"
      ],
      "metadata": {
        "id": "kn_c6f8Qp6Xx"
      }
    },
    {
      "cell_type": "markdown",
      "source": [
        "# **hyperparameter**\n",
        "\n",
        "\n"
      ],
      "metadata": {
        "id": "yio8JfGEm0L2"
      }
    },
    {
      "cell_type": "code",
      "source": [
        "from pyspark.ml.regression import LinearRegression\n",
        "from pyspark.ml.tuning import CrossValidator, ParamGridBuilder\n",
        "from pyspark.ml.evaluation import RegressionEvaluator\n",
        "import pyspark.sql.functions as F\n",
        "\n",
        "# Step 1: Log-transform the target column\n",
        "delay_data_log = delay_data_log.withColumn(\"log_DepDelayMinutes\", F.log1p(\"DepDelayMinutes\"))\n",
        "\n",
        "# Step 2: Split data into training and testing sets\n",
        "delay_train, delay_test = delay_data_log.randomSplit([0.8, 0.2], seed=42)\n",
        "\n",
        "# Step 3: Define the linear regression model\n",
        "lr = LinearRegression(featuresCol='final_feature_vector', labelCol='log_DepDelayMinutes')\n",
        "\n",
        "# Step 4: Define hyperparameter grid\n",
        "paramGrid = (ParamGridBuilder()\n",
        "    .addGrid(lr.regParam, [0.001, 0.01, 0.1, 0.5, 1.0])  # Regularization strength\n",
        "    .addGrid(lr.elasticNetParam, [0.0, 0.25, 0.5, 0.75, 1.0])  # Ridge-Lasso mixing\n",
        "    .addGrid(lr.fitIntercept, [True, False])  # Fit intercept or not\n",
        "    .build())\n",
        "\n",
        "# Step 5: Define the evaluator (evaluate on the original scale)\n",
        "evaluator = RegressionEvaluator(labelCol=\"DepDelayMinutes\", predictionCol=\"prediction\", metricName=\"rmse\")\n",
        "\n",
        "# Step 6: Set up cross-validation\n",
        "cv = CrossValidator(estimator=lr, estimatorParamMaps=paramGrid, evaluator=evaluator, numFolds=5)  # 5-fold cross-validation\n",
        "\n",
        "# Step 7: Train the model\n",
        "cvModel = cv.fit(delay_train)\n",
        "\n",
        "# Step 8: Predict and back-transform\n",
        "predictions_dep = cvModel.bestModel.transform(delay_test).withColumn(\"predicted_DepDelayMinutes\", F.expm1(\"prediction\"))\n",
        "\n",
        "# Step 9: Evaluate the model\n",
        "rmse = evaluator.evaluate(predictions_dep)\n",
        "print(f\"Best Model RMSE on Original Scale: {rmse}\")\n",
        "\n",
        "# Step 10: Extract best hyperparameters\n",
        "print(\"Best Hyperparameters:\")\n",
        "print(f\" regParam: {cvModel.bestModel._java_obj.getRegParam()}\")\n",
        "print(f\" elasticNetParam: {cvModel.bestModel._java_obj.getElasticNetParam()}\")\n",
        "print(f\" fitIntercept: {cvModel.bestModel._java_obj.getFitIntercept()}\")\n"
      ],
      "metadata": {
        "id": "Ym7Bb73Ym1_h"
      },
      "execution_count": null,
      "outputs": []
    },
    {
      "cell_type": "code",
      "source": [
        "# from pyspark.ml.feature import StringIndexer, VectorAssembler, StandardScaler\n",
        "# from pyspark.sql import functions as F\n",
        "\n",
        "# # Example simplified test data for prediction (new flight)\n",
        "# Simulasi = {\n",
        "#     \"DepDelayMinutes\": 0,\n",
        "#     \"CRSDepTime\": 1000,\n",
        "#     \"CRSElapsedTime\": 90,\n",
        "#     \"Distance\":500,\n",
        "#     \"TaxiOut\": 15,\n",
        "#     \"TaxiIn\": 5,\n",
        "#     \"DayOfWeek\": 5,  # Example: Wednesday\n",
        "#     \"Month\": 7,  # Example: July\n",
        "#     \"Airline\": \"Commutair Aka Champlain Enterprises, Inc.\",  # Example airline\n",
        "#     \"Origin\": \"JFK\",  # Example origin airport\n",
        "#     \"Dest\": \"LAX\",  # Example destination airport\n",
        "#     \"Tail_Number\": \"N21144\",  # Example Tail Number\n",
        "#     \"Operated_or_Branded_Code_Share_Partners\": \"UA_CODESHARE\",\n",
        "#     \"DOT_ID_Operating_Airline\": 20445\n",
        "# }\n",
        "\n",
        "# Simulasi_log = spark.createDataFrame([Simulasi])\n",
        "\n",
        "\n",
        "# Simulasi_log = Simulasi_log.withColumn(\"HourOfDay\", (F.col(\"CRSDepTime\") / 100).cast(\"int\"))\n",
        "# Simulasi_log = Simulasi_log.withColumn(\"IsPeakHours\",\n",
        "#                                            F.when((F.col(\"HourOfDay\") >= 7) & (F.col(\"HourOfDay\") <= 10), 1)\n",
        "#                                            .when((F.col(\"HourOfDay\") >= 16) & (F.col(\"HourOfDay\") <= 19), 1)\n",
        "#                                            .otherwise(0))\n",
        "\n",
        "# Simulasi_log = Simulasi_log.withColumn(\"Speed\", F.col(\"Distance\") / F.col(\"CRSElapsedTime\"))\n",
        "\n",
        "# Simulasi_log = Simulasi_log.withColumn(\"Airline-Origin\", F.concat_ws(\"-\", F.col(\"Airline\"), F.col(\"Origin\")))\n",
        "\n",
        "# categorical_columns = [\"Airline\", \"Origin\", \"Dest\",\"Tail_Number\",\n",
        "#                        \"Operated_or_Branded_Code_Share_Partners\",\n",
        "#                        \"Airline-Origin\"]\n",
        "\n",
        "# observed_column = ['DepDelayMinutes']\n",
        "\n",
        "# numeric_columns = [x for x in Simulasi_log.columns if x not in categorical_columns + observed_column]\n",
        "# delay_assembler = VectorAssembler(inputCols=numeric_columns, outputCol=\"numeric_features\")\n",
        "# Simulasi_log = delay_assembler.transform(Simulasi_log)\n",
        "\n",
        "# delay_scaler = StandardScaler(inputCol=\"numeric_features\", outputCol=\"scaled_features\", withMean=True, withStd=True)\n",
        "# delay_scaler_model = delay_scaler.fit(Simulasi_log)\n",
        "# Simulasi_log = delay_scaler_model.transform(Simulasi_log)\n",
        "\n",
        "# # delay_data_log = delay_data_log.drop(*numeric_columns)\n",
        "\n",
        "# from pyspark.ml.feature import StringIndexerModel\n",
        "\n",
        "# # Apply the saved StringIndexerModel to new data\n",
        "# for col_name in categorical_columns:\n",
        "#     indexer_model = StringIndexerModel.load(f\"{col_name}_indexer_model\")  # Load fitted model\n",
        "#     # Set handleInvalid to \"keep\" to handle unseen labels\n",
        "#     indexer_model.setHandleInvalid(\"keep\")\n",
        "#     Simulasi_log = indexer_model.transform(Simulasi_log)  # Apply transformation to new data\n",
        "\n",
        "# # delay_data_log = delay_data_log.drop(*categorical_columns)\n",
        "\n",
        "# from pyspark.ml.feature import OneHotEncoder\n",
        "\n",
        "# categorical_columns_indexed = [f\"{x}_Indexed\" for x in categorical_columns]\n",
        "\n",
        "# for col_name in categorical_columns_indexed:\n",
        "#     one_hot_encoder = OneHotEncoder(inputCol=col_name, outputCol=f'{col_name}_OneHot')\n",
        "#     Simulasi_log = one_hot_encoder.fit(Simulasi_log).transform(Simulasi_log)\n",
        "\n",
        "# final_features = ['scaled_features']+categorical_columns_indexed\n",
        "\n",
        "# assembler = VectorAssembler(inputCols=final_features,\n",
        "#                             outputCol='final_feature_vector')\n",
        "\n",
        "# Simulasi_log = assembler.transform(Simulasi_log)\n",
        "# Simulasi_log.show(3)\n",
        "\n",
        "# Simulasi_log.select('final_feature_vector').take(3)"
      ],
      "metadata": {
        "id": "3LaG3AFmHcFk"
      },
      "execution_count": null,
      "outputs": []
    },
    {
      "cell_type": "code",
      "source": [
        "# # Step 6: Predict the delay using the trained model (best_model should already be defined)\n",
        "# predicted_dep_delay = best_model.transform(Simulasi_log) \\\n",
        "#     .withColumnRenamed('prediction', 'predicted_DepDelayMinutes')  # Convert log-transformed prediction back to original scale\n",
        "\n",
        "# # Show the predicted results\n",
        "# predicted_dep_delay.select(\"Airline\", \"Origin\", \"Dest\", \"predicted_DepDelayMinutes\").show()\n",
        "\n"
      ],
      "metadata": {
        "id": "gzXuncE7KIKV"
      },
      "execution_count": null,
      "outputs": []
    },
    {
      "cell_type": "code",
      "source": [],
      "metadata": {
        "id": "5yGu2rM0Y-LT"
      },
      "execution_count": null,
      "outputs": []
    }
  ]
}